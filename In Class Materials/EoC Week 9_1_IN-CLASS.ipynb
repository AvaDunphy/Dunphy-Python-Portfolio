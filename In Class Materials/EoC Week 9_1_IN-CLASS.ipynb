{
 "cells": [
  {
   "cell_type": "markdown",
   "metadata": {},
   "source": [
    "# Intermediate SQL with SQLite in Python\n",
    "\n",
    "In this lesson, we will work with the **Sakila** database—a sample database originally created by MySQL and ported to SQLite. The Sakila database contains a rich schema (including tables such as `actor`, `film`, `film_actor`, etc.) that provides real-world data to explore advanced SQL techniques.\n",
    "\n",
    "### What You'll Learn:\n",
    "- How to connect to a SQLite database file (`sakila.db`) using Python's `sqlite3` module.\n",
    "- How to explore the Sakila database schema by listing tables and previewing data.\n",
    "- How to write SQL queries using JOINs, aggregate functions, GROUP BY, and HAVING.\n",
    "- How to apply these techniques with partner practice exercises.\n",
    "\n",
    "**Note:** Ensure the `sakila.db` file is in your working directory before running the notebook."
   ]
  },
  {
   "cell_type": "code",
   "execution_count": 2,
   "metadata": {},
   "outputs": [
    {
     "name": "stdout",
     "output_type": "stream",
     "text": [
      "Connected to SQLite Sakila database!\n"
     ]
    }
   ],
   "source": [
    "import sqlite3\n",
    "import pandas as pd\n",
    "\n",
    "# Set the path to the SQLite database\n",
    "db_path = \"sakila.db\"\n",
    "\n",
    "# Connect to SQLite database\n",
    "conn = sqlite3.connect(db_path)\n",
    "print(\"Connected to SQLite Sakila database!\")"
   ]
  },
  {
   "cell_type": "markdown",
   "metadata": {},
   "source": [
    "### Exploring the Database Schema\n",
    "\n",
    "Before diving into queries, it's useful to know which tables are available in the Sakila database. We'll list all tables by querying the SQLite master table."
   ]
  },
  {
   "cell_type": "code",
   "execution_count": 3,
   "metadata": {},
   "outputs": [
    {
     "name": "stdout",
     "output_type": "stream",
     "text": [
      "Tables in the database:\n",
      "Empty DataFrame\n",
      "Columns: [name]\n",
      "Index: []\n"
     ]
    }
   ],
   "source": [
    "# List all tables in the database\n",
    "tables = pd.read_sql(\"\"\"SELECT name \n",
    "                        FROM sqlite_master \n",
    "                        WHERE type='table';\"\"\", conn)\n",
    "\n",
    "print(\"Tables in the database:\")\n",
    "print(tables)"
   ]
  },
  {
   "cell_type": "markdown",
   "metadata": {},
   "source": [
    "### Viewing Sample Data from the 'actor' Table\n",
    "\n",
    "Let's preview a few rows from the `actor` table to see what kind of data it holds.\n",
    "\n",
    "Select the following columns:\n",
    "- actor_id\n",
    "- first_name\n",
    "- last_name\n",
    "\n",
    "Connect two string columns with || ' ' || and create an alias with \"AS\""
   ]
  },
  {
   "cell_type": "code",
   "execution_count": 7,
   "metadata": {},
   "outputs": [
    {
     "ename": "DatabaseError",
     "evalue": "Execution failed on sql 'SELECT actor_id, first_name || ' ' || last_name AS actor_full_name\n                 FROM actor \n                 LIMIT 5;': no such table: actor",
     "output_type": "error",
     "traceback": [
      "\u001b[0;31m---------------------------------------------------------------------------\u001b[0m",
      "\u001b[0;31mOperationalError\u001b[0m                          Traceback (most recent call last)",
      "File \u001b[0;32m/opt/anaconda3/lib/python3.12/site-packages/pandas/io/sql.py:2674\u001b[0m, in \u001b[0;36mSQLiteDatabase.execute\u001b[0;34m(self, sql, params)\u001b[0m\n\u001b[1;32m   2673\u001b[0m \u001b[38;5;28;01mtry\u001b[39;00m:\n\u001b[0;32m-> 2674\u001b[0m     cur\u001b[38;5;241m.\u001b[39mexecute(sql, \u001b[38;5;241m*\u001b[39margs)\n\u001b[1;32m   2675\u001b[0m     \u001b[38;5;28;01mreturn\u001b[39;00m cur\n",
      "\u001b[0;31mOperationalError\u001b[0m: no such table: actor",
      "\nThe above exception was the direct cause of the following exception:\n",
      "\u001b[0;31mDatabaseError\u001b[0m                             Traceback (most recent call last)",
      "Cell \u001b[0;32mIn[7], line 7\u001b[0m\n\u001b[1;32m      2\u001b[0m query_actor \u001b[38;5;241m=\u001b[39m \u001b[38;5;124m\"\"\"\u001b[39m\u001b[38;5;124mSELECT actor_id, first_name || \u001b[39m\u001b[38;5;124m'\u001b[39m\u001b[38;5;124m \u001b[39m\u001b[38;5;124m'\u001b[39m\u001b[38;5;124m || last_name AS actor_full_name\u001b[39m\n\u001b[1;32m      3\u001b[0m \u001b[38;5;124m                 FROM actor \u001b[39m\n\u001b[1;32m      4\u001b[0m \u001b[38;5;124m                 LIMIT 5;\u001b[39m\u001b[38;5;124m\"\"\"\u001b[39m\n\u001b[1;32m      6\u001b[0m \u001b[38;5;66;03m# Execute the query using pd.read_sql.\u001b[39;00m\n\u001b[0;32m----> 7\u001b[0m df_actor \u001b[38;5;241m=\u001b[39m pd\u001b[38;5;241m.\u001b[39mread_sql(query_actor, conn)\n\u001b[1;32m      9\u001b[0m \u001b[38;5;28mprint\u001b[39m(\u001b[38;5;124m\"\u001b[39m\u001b[38;5;124mSample rows from the \u001b[39m\u001b[38;5;124m'\u001b[39m\u001b[38;5;124mactor\u001b[39m\u001b[38;5;124m'\u001b[39m\u001b[38;5;124m table:\u001b[39m\u001b[38;5;124m\"\u001b[39m)\n\u001b[1;32m     10\u001b[0m \u001b[38;5;28mprint\u001b[39m(df_actor)\n",
      "File \u001b[0;32m/opt/anaconda3/lib/python3.12/site-packages/pandas/io/sql.py:706\u001b[0m, in \u001b[0;36mread_sql\u001b[0;34m(sql, con, index_col, coerce_float, params, parse_dates, columns, chunksize, dtype_backend, dtype)\u001b[0m\n\u001b[1;32m    704\u001b[0m \u001b[38;5;28;01mwith\u001b[39;00m pandasSQL_builder(con) \u001b[38;5;28;01mas\u001b[39;00m pandas_sql:\n\u001b[1;32m    705\u001b[0m     \u001b[38;5;28;01mif\u001b[39;00m \u001b[38;5;28misinstance\u001b[39m(pandas_sql, SQLiteDatabase):\n\u001b[0;32m--> 706\u001b[0m         \u001b[38;5;28;01mreturn\u001b[39;00m pandas_sql\u001b[38;5;241m.\u001b[39mread_query(\n\u001b[1;32m    707\u001b[0m             sql,\n\u001b[1;32m    708\u001b[0m             index_col\u001b[38;5;241m=\u001b[39mindex_col,\n\u001b[1;32m    709\u001b[0m             params\u001b[38;5;241m=\u001b[39mparams,\n\u001b[1;32m    710\u001b[0m             coerce_float\u001b[38;5;241m=\u001b[39mcoerce_float,\n\u001b[1;32m    711\u001b[0m             parse_dates\u001b[38;5;241m=\u001b[39mparse_dates,\n\u001b[1;32m    712\u001b[0m             chunksize\u001b[38;5;241m=\u001b[39mchunksize,\n\u001b[1;32m    713\u001b[0m             dtype_backend\u001b[38;5;241m=\u001b[39mdtype_backend,\n\u001b[1;32m    714\u001b[0m             dtype\u001b[38;5;241m=\u001b[39mdtype,\n\u001b[1;32m    715\u001b[0m         )\n\u001b[1;32m    717\u001b[0m     \u001b[38;5;28;01mtry\u001b[39;00m:\n\u001b[1;32m    718\u001b[0m         _is_table_name \u001b[38;5;241m=\u001b[39m pandas_sql\u001b[38;5;241m.\u001b[39mhas_table(sql)\n",
      "File \u001b[0;32m/opt/anaconda3/lib/python3.12/site-packages/pandas/io/sql.py:2738\u001b[0m, in \u001b[0;36mSQLiteDatabase.read_query\u001b[0;34m(self, sql, index_col, coerce_float, parse_dates, params, chunksize, dtype, dtype_backend)\u001b[0m\n\u001b[1;32m   2727\u001b[0m \u001b[38;5;28;01mdef\u001b[39;00m \u001b[38;5;21mread_query\u001b[39m(\n\u001b[1;32m   2728\u001b[0m     \u001b[38;5;28mself\u001b[39m,\n\u001b[1;32m   2729\u001b[0m     sql,\n\u001b[0;32m   (...)\u001b[0m\n\u001b[1;32m   2736\u001b[0m     dtype_backend: DtypeBackend \u001b[38;5;241m|\u001b[39m Literal[\u001b[38;5;124m\"\u001b[39m\u001b[38;5;124mnumpy\u001b[39m\u001b[38;5;124m\"\u001b[39m] \u001b[38;5;241m=\u001b[39m \u001b[38;5;124m\"\u001b[39m\u001b[38;5;124mnumpy\u001b[39m\u001b[38;5;124m\"\u001b[39m,\n\u001b[1;32m   2737\u001b[0m ) \u001b[38;5;241m-\u001b[39m\u001b[38;5;241m>\u001b[39m DataFrame \u001b[38;5;241m|\u001b[39m Iterator[DataFrame]:\n\u001b[0;32m-> 2738\u001b[0m     cursor \u001b[38;5;241m=\u001b[39m \u001b[38;5;28mself\u001b[39m\u001b[38;5;241m.\u001b[39mexecute(sql, params)\n\u001b[1;32m   2739\u001b[0m     columns \u001b[38;5;241m=\u001b[39m [col_desc[\u001b[38;5;241m0\u001b[39m] \u001b[38;5;28;01mfor\u001b[39;00m col_desc \u001b[38;5;129;01min\u001b[39;00m cursor\u001b[38;5;241m.\u001b[39mdescription]\n\u001b[1;32m   2741\u001b[0m     \u001b[38;5;28;01mif\u001b[39;00m chunksize \u001b[38;5;129;01mis\u001b[39;00m \u001b[38;5;129;01mnot\u001b[39;00m \u001b[38;5;28;01mNone\u001b[39;00m:\n",
      "File \u001b[0;32m/opt/anaconda3/lib/python3.12/site-packages/pandas/io/sql.py:2686\u001b[0m, in \u001b[0;36mSQLiteDatabase.execute\u001b[0;34m(self, sql, params)\u001b[0m\n\u001b[1;32m   2683\u001b[0m     \u001b[38;5;28;01mraise\u001b[39;00m ex \u001b[38;5;28;01mfrom\u001b[39;00m \u001b[38;5;21;01minner_exc\u001b[39;00m\n\u001b[1;32m   2685\u001b[0m ex \u001b[38;5;241m=\u001b[39m DatabaseError(\u001b[38;5;124mf\u001b[39m\u001b[38;5;124m\"\u001b[39m\u001b[38;5;124mExecution failed on sql \u001b[39m\u001b[38;5;124m'\u001b[39m\u001b[38;5;132;01m{\u001b[39;00msql\u001b[38;5;132;01m}\u001b[39;00m\u001b[38;5;124m'\u001b[39m\u001b[38;5;124m: \u001b[39m\u001b[38;5;132;01m{\u001b[39;00mexc\u001b[38;5;132;01m}\u001b[39;00m\u001b[38;5;124m\"\u001b[39m)\n\u001b[0;32m-> 2686\u001b[0m \u001b[38;5;28;01mraise\u001b[39;00m ex \u001b[38;5;28;01mfrom\u001b[39;00m \u001b[38;5;21;01mexc\u001b[39;00m\n",
      "\u001b[0;31mDatabaseError\u001b[0m: Execution failed on sql 'SELECT actor_id, first_name || ' ' || last_name AS actor_full_name\n                 FROM actor \n                 LIMIT 5;': no such table: actor"
     ]
    }
   ],
   "source": [
    "# Define SQL query to fetch the first 5 rows from the actor table.\n",
    "query_actor = \"\"\"SELECT actor_id, first_name || ' ' || last_name AS actor_full_name\n",
    "                 FROM actor \n",
    "                 LIMIT 5;\"\"\"\n",
    "\n",
    "# Execute the query using pd.read_sql.\n",
    "df_actor = pd.read_sql(query_actor, conn)\n",
    "\n",
    "print(\"Sample rows from the 'actor' table:\")\n",
    "print(df_actor)"
   ]
  },
  {
   "cell_type": "markdown",
   "metadata": {},
   "source": [
    "### Viewing Sample Data from the 'film' Table\n",
    "\n",
    "Let's preview a few rows from the `film` table to see what kind of data it holds.\n",
    "\n",
    "Select the following columns:\n",
    "- film_id\n",
    "- title\n",
    "- length\n",
    "- rating"
   ]
  },
  {
   "cell_type": "code",
   "execution_count": null,
   "metadata": {},
   "outputs": [],
   "source": [
    "# Define SQL query to fetch the first 5 rows from the actor table.\n",
    "query_film = \"\"\"\n",
    "\n",
    "             \"\"\"\n",
    "\n",
    "# Execute the query using pd.read_sql.\n",
    "df_film = pd.read_sql(query_film, conn)\n",
    "\n",
    "print(\"Sample rows from the 'film' table:\")\n",
    "print(df_film)"
   ]
  },
  {
   "cell_type": "markdown",
   "metadata": {},
   "source": [
    "### Viewing Sample Data from the 'film_actor' Table\n",
    "\n",
    "Let's preview a few rows from the `film_actor` table to see what kind of data it holds.\n",
    "\n",
    "Select all columns."
   ]
  },
  {
   "cell_type": "code",
   "execution_count": null,
   "metadata": {},
   "outputs": [],
   "source": [
    "# Define SQL query to fetch the first 5 rows from the actor table.\n",
    "query_film_actor = \"\"\"\n",
    "\n",
    "                   \"\"\"\n",
    "\n",
    "# Execute the query using pd.read_sql.\n",
    "df_film_actor = pd.read_sql(query_film_actor, conn)\n",
    "\n",
    "print(\"Sample rows from the 'film' table:\")\n",
    "print(df_film_actor)"
   ]
  },
  {
   "cell_type": "markdown",
   "metadata": {},
   "source": [
    "### JOIN Query: Actors and Their Films\n",
    "\n",
    "Next, we'll join three tables—`actor`, `film_actor`, and `film`—to list film titles along with the full names of actors who appear in them.\n",
    "\n",
    "- **Tables Involved:**\n",
    "  - `actor`: Contains actor details.\n",
    "  - `film_actor`: A bridge table linking actors to films.\n",
    "  - `film`: Contains film details.\n",
    "\n",
    "The join connects:\n",
    "- `actor.actor_id` with `film_actor.actor_id`\n",
    "- `film_actor.film_id` with `film.film_id`\n",
    "\n",
    "Let's see the first 10 actor-film associations."
   ]
  },
  {
   "cell_type": "code",
   "execution_count": null,
   "metadata": {},
   "outputs": [],
   "source": [
    "# Define SQL query for actor-film associations.\n",
    "join_query = \"\"\"\n",
    "\n",
    "             \"\"\"\n",
    "\n",
    "# Execute the query using pd.read_sql.\n",
    "df_join = pd.read_sql(join_query, conn)\n",
    "\n",
    "print(\"Actor - Film Associations (first 10 rows):\")\n",
    "print(df_join)"
   ]
  },
  {
   "cell_type": "markdown",
   "metadata": {},
   "source": [
    "### Aggregation Query: Counting Actors per Film\n",
    "\n",
    "Now, we'll count the number of actors featured in each film. This query uses:\n",
    "- **JOIN:** To connect `film` and `film_actor`.\n",
    "- **GROUP BY:** To group data by film title.\n",
    "- **HAVING:** To filter films with more than 3 actors.\n",
    "\n",
    "This helps identify films with larger casts."
   ]
  },
  {
   "cell_type": "code",
   "execution_count": null,
   "metadata": {},
   "outputs": [],
   "source": [
    "# Define SQL query for counting actors per film.\n",
    "agg_query = \"\"\"\n",
    "\n",
    "            \"\"\"\n",
    "\n",
    "# Execute the query using pd.read_sql.\n",
    "df_agg = pd.read_sql(agg_query, conn)\n",
    "\n",
    "print(\"Films with more than 3 actors (top 10):\")\n",
    "print(df_agg)"
   ]
  },
  {
   "cell_type": "markdown",
   "metadata": {},
   "source": [
    "# Group Exercises\n",
    "- Find a neighbor, yes, move around and make a new friend!\n",
    "- Work through the following practice exercises together."
   ]
  },
  {
   "cell_type": "markdown",
   "metadata": {},
   "source": [
    "# Partner Practice Exercise\n",
    "\n",
    "Now that we've seen several examples of JOINs and aggregation queries, it's time for you to practice with a partner. Complete the following tasks using the Sakila database:\n",
    "\n",
    "1. **Task 1: Write a JOIN Query**\n",
    "   - Write a query to retrieve a list of films along with the full names of the actors (first and last name) who acted in them.\n",
    "   - *Hint:* Join the `film`, `film_actor`, and `actor` tables. Use string concatenation (e.g., `first_name || ' ' || last_name`) for full names.\n",
    "\n",
    "2. **Task 2: Write an Aggregation Query**\n",
    "   - Write a query to find the average film length for each film category.\n",
    "   - *Hint:* Join the `film`, `film_category`, and `category` tables, then use the `AVG()` function with `GROUP BY`.\n",
    "\n",
    "3. **Task 3: Challenge Task (Optional)**\n",
    "   - Combine your results: Write a query to list film titles, the count of actors in each film, and the film category. Filter to show only films with more than 5 actors.\n",
    "   - *Hint:* You might need to use multiple joins and group by both film title and category.\n",
    "\n",
    "Discuss your approaches with your partner, compare your results, and be ready to review a few solutions as a class."
   ]
  },
  {
   "cell_type": "code",
   "execution_count": null,
   "metadata": {},
   "outputs": [],
   "source": [
    "# Task 1: Retrieve a list of films along with the full names of the actors.\n",
    "task1_query = \"\"\"\n",
    "\n",
    "              \"\"\"\n",
    "\n",
    "# Execute the query using pd.read_sql.\n",
    "df_task1 = pd.read_sql(task1_query, conn)\n",
    "\n",
    "print(\"Task 1: Films with Actor Full Names (first 20 rows):\")\n",
    "print(df_task1)"
   ]
  },
  {
   "cell_type": "code",
   "execution_count": null,
   "metadata": {},
   "outputs": [],
   "source": [
    "# Task 2: Find the average film length for each film category.\n",
    "task2_query = \"\"\"\n",
    "\n",
    "              \"\"\"\n",
    "\n",
    "# Execute the query using pd.read_sql.\n",
    "df_task2 = pd.read_sql(task2_query, conn)\n",
    "\n",
    "print(\"Task 2: Average Film Length per Category:\")\n",
    "print(df_task2)"
   ]
  },
  {
   "cell_type": "code",
   "execution_count": null,
   "metadata": {},
   "outputs": [],
   "source": [
    "# Task 3: List film titles, count of actors, and film category for films with more than 5 actors.\n",
    "task3_query = \"\"\"\n",
    "\n",
    "            \"\"\"\n",
    "\n",
    "# Execute the query using pd.read_sql.\n",
    "df_task3 = pd.read_sql(task3_query, conn)\n",
    "\n",
    "print(\"Task 3: Films with more than 5 Actors (showing film title, actor count, category):\")\n",
    "print(df_task3)"
   ]
  },
  {
   "cell_type": "markdown",
   "metadata": {},
   "source": [
    "## Close the connection to the database.\n",
    "Always close the connection when you're done to free up resources."
   ]
  },
  {
   "cell_type": "code",
   "execution_count": 24,
   "metadata": {},
   "outputs": [],
   "source": [
    "# Close the connection\n",
    "#conn.close()"
   ]
  }
 ],
 "metadata": {
  "kernelspec": {
   "display_name": "base",
   "language": "python",
   "name": "python3"
  },
  "language_info": {
   "codemirror_mode": {
    "name": "ipython",
    "version": 3
   },
   "file_extension": ".py",
   "mimetype": "text/x-python",
   "name": "python",
   "nbconvert_exporter": "python",
   "pygments_lexer": "ipython3",
   "version": "3.12.7"
  }
 },
 "nbformat": 4,
 "nbformat_minor": 2
}
